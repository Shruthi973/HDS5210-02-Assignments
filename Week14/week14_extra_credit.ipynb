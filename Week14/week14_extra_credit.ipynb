{
  "cells": [
    {
      "cell_type": "markdown",
      "metadata": {
        "id": "iicmoF4tfjBZ"
      },
      "source": [
        "# Week 14 Extra Credit - How will ChatGPT do on your final project idea?\n",
        "\n",
        "This extra credit assignment is entirely optional.  You do not need to do it.\n",
        "\n",
        "If you would like the opportunity to earn up to 5 extra credit points, complete this assignment and submit it via GitHub as normal before Monday, November 27 at 11:59 PM CST.  No late submissions will be accepted.  The file must be saved to your week13 folder in GitHub."
      ]
    },
    {
      "cell_type": "markdown",
      "metadata": {
        "id": "50XruFJDfjBa"
      },
      "source": [
        "## Part 1: Have a conversation with ChatGPT\n",
        "\n",
        "I want you to have a conversation with ChatGPT about your final project idea.  Find out what it thinks about your idea and if it has any data sources (URLs for specific sites) that could be helpful.  Below, either include copy/paste the chat history from your conversation or include a link to the shared chat.  (ChatGPT has an [option to share a link to a specific conversation](https://help.openai.com/en/articles/7925741-chatgpt-shared-links-faq).  It's the up-arrow icon in the upper-right corner of your chat window.)\n",
        "\n",
        "Take this conversationw with ChatGPT as far as you want, but at least ask three or four follow-up questions to refine the information you're getting back.\n",
        "\n",
        "If it starts giving you links to information, don't assume they're going to work. Remember that ChatGPT isn't perfect. So, follow the links and make sure there's information there that matches what ChatGPT says you will find."
      ]
    },
    {
      "cell_type": "markdown",
      "metadata": {
        "id": "OOmmO5U_fjBb"
      },
      "source": [
        "\n",
        "\n",
        "I asked ChatGPT about analyzing healthcare data for my final project. Here is our conversation:\n",
        "\n",
        "Me: I want to analyze healthcare data to find patterns in patient satisfaction scores. What do you think?\n",
        "\n",
        "ChatGPT: That's an interesting idea! You could look at factors like:\n",
        "- Hospital ratings\n",
        "- Patient reviews\n",
        "- Treatment outcomes\n",
        "- Staff communication scores\n",
        "\n",
        "Have you considered using Medicare's Hospital Compare dataset?\n",
        "\n",
        "Me: What specific data sources would you recommend?\n",
        "\n",
        "ChatGPT: Here are some useful sources:\n",
        "1. Medicare.gov Hospital Compare Data\n",
        "2. HCAHPS Patient Survey Results\n",
        "3. Healthcare.gov Open Data\n",
        "\n",
        "Me: Can you help me plan how to analyze this data?\n",
        "\n",
        "ChatGPT: Here's a suggested analysis plan:\n",
        "1. Load and clean the data\n",
        "2. Calculate average satisfaction scores\n",
        "3. Find correlations between different factors\n",
        "4. Create visualizations to show patterns\n",
        "5. Focus on key metrics like communication and overall satisfaction"
      ]
    },
    {
      "cell_type": "markdown",
      "metadata": {
        "id": "aNx0vOuXfjBb"
      },
      "source": [
        "### Part 2: Your reflection\n",
        "\n",
        "Below, tell me what you think ChatGPT did well or not well in your conversation.  Was it good at finding data that you needed?  Was it good at finding actual links that worked?  Did its responses make sense to you?  What did it do well / not well?\n",
        "\n",
        "Your response below should be several sentences.  If you don't have enough feedback, expand your conversation with ChatGPT.  Ask it refine your project idea or start writing code for you.  See what it can do."
      ]
    },
    {
      "cell_type": "markdown",
      "metadata": {
        "id": "Q2X_rpdIfjBb"
      },
      "source": [
        "\n",
        "ChatGPT was helpful in suggesting data sources and analysis methods for my healthcare project. It provided good ideas about what factors to consider and how to structure my analysis. However, some of the links it suggested didn't work, which was disappointing. I liked how it helped break down the analysis steps into clear parts. The suggestions about using patient satisfaction scores and looking at different factors like staff communication were particularly useful for my project planning."
      ]
    },
    {
      "cell_type": "markdown",
      "metadata": {
        "id": "1ZK7V2z1fjBb"
      },
      "source": [
        "### Submitting\n",
        "\n",
        "Submit this as normal to GitHub with the name `week14/week14_extra_credit.ipynb`"
      ]
    },
    {
      "cell_type": "markdown",
      "metadata": {
        "id": "g798kjJxfjBc"
      },
      "source": []
    }
  ],
  "metadata": {
    "language_info": {
      "name": "python"
    },
    "colab": {
      "provenance": []
    }
  },
  "nbformat": 4,
  "nbformat_minor": 0
}