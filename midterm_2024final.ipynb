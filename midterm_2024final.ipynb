{
  "cells": [
    {
      "cell_type": "markdown",
      "metadata": {
        "id": "view-in-github",
        "colab_type": "text"
      },
      "source": [
        "<a href=\"https://colab.research.google.com/github/Shruthi973/HDS5210-02-Assignments/blob/main/midterm_2024final.ipynb\" target=\"_parent\"><img src=\"https://colab.research.google.com/assets/colab-badge.svg\" alt=\"Open In Colab\"/></a>"
      ]
    },
    {
      "cell_type": "markdown",
      "metadata": {
        "id": "w-g2ry4NfzsC"
      },
      "source": [
        "# HDS5210-2024 Midterm\n",
        "\n",
        "In the midterm, you're going to use all the programming and data management skills you've developed so far to build a risk calculator that pretends to be integrated with a clinical registry.  You'll compute the PRIEST COVID-19 Clinical Severity Score for a series of patients and, based on their risk of an adverse outcome, query a REST web service to find a hospital to transfer them to. The end result of your work will be a list of instructions on where each patient should be discharged given their risk and various characteristics of the patient.\n",
        "\n",
        "Each step in the midterm will build up to form your complete solution.\n",
        "\n",
        "**Make sure you write good docstrings and doctests along the way!!**\n",
        "\n",
        "**The midterm is due at 11:59 PM CST on Monday, October 24th.**\n",
        "\n",
        "---"
      ]
    },
    {
      "cell_type": "markdown",
      "metadata": {
        "id": "MjPEyhCZfzsD"
      },
      "source": [
        "## Step 1: Calculate PRIEST Clinical Severity Score\n",
        "\n",
        "This scoring algorithm can be found [here on the MDCalc website](https://www.mdcalc.com/priest-covid-19-clinical-severity-score#evidence).  \n",
        "\n",
        "1. You will need to write a function called **priest()** with the following input parameters.  \n",
        " * Sex (Gender assigned at birth)\n",
        " * Age in years\n",
        " * Respiratory rate in breaths per minute\n",
        " * Oxygen saturation as a percent between 0 and 1\n",
        " * Heart rate in beats per minute\n",
        " * Systolic BP in mmHg\n",
        " * Temperature in degrees C\n",
        " * Alertness as a string description\n",
        " * Inspired Oxygen as as string description\n",
        " * Performance Status as a string description\n",
        "2. The function will need to follow the algorithm provided on the MDCalc website to compute a risk percentage that should be returned as a numeric value between 0 and 1.\n",
        "3. Be sure to use docstring documentation and at least three built-in docstring test cases.\n",
        "4. Assume that the input values that are strings could be any combination of upper or lower case. For example: 'male', 'Male', 'MALE', 'MalE' should all be interpretted by your code as male.\n",
        "5. If any of the inputs are invalid (for example a sex value that is not recognizable as male or female) your code should return None.\n",
        "\n",
        "NOTES:\n",
        "1. In the final step there is a table that translates from **PRIEST Score** to **30-day probability of an outcome** but the last two probabilities are shown as ranges (59-88% and >99%).  Our code needs to output a single number, however. For our code, use the following rule:\n",
        " * If PRIEST score is between 17 and 25, the probability you return should be 0.59\n",
        " * If PRIEST score is greater than or equal to 26, the probability you return should be 0.99\n"
      ]
    },
    {
      "cell_type": "code",
      "execution_count": 8,
      "metadata": {
        "id": "6n0yJFv5fzsE",
        "outputId": "d2fa7cdb-d43e-4533-e435-ceac29c3eddf",
        "colab": {
          "base_uri": "https://localhost:8080/"
        }
      },
      "outputs": [
        {
          "output_type": "stream",
          "name": "stdout",
          "text": [
            "Finding tests in NoName\n",
            "Trying:\n",
            "    priest('male', 25, 20, 0.98, 70, 120, 37, 'alert', 'room air', 'unrestricted normal activity')\n",
            "Expecting:\n",
            "    0.01\n",
            "ok\n",
            "Trying:\n",
            "    priest('female', 75, 30, 0.9, 100, 90, 38.5, 'confused', 'supplemental oxygen', 'limited self care')\n",
            "Expecting:\n",
            "    0.59\n",
            "ok\n",
            "Trying:\n",
            "    priest('MALE', 50, 25, 0.95, 80, 110, 37.5, 'Alert', 'Room Air', 'Normal Activity')\n",
            "Expecting:\n",
            "    0.06\n",
            "ok\n"
          ]
        }
      ],
      "source": [
        "def priest(sex, age, respiratory_rate, oxygen_saturation, heart_rate, systolic_bp, temperature, alertness, inspired_oxygen, performance_status):\n",
        "    \"\"\"\n",
        "    Calculate PRIEST Clinical Severity Score.\n",
        "\n",
        "    :param sex: Gender assigned at birth (str)\n",
        "    :param age: Age in years (int)\n",
        "    :param respiratory_rate: Respiratory rate in breaths per minute (int)\n",
        "    :param oxygen_saturation: Oxygen saturation as a percent between 0 and 1 (float)\n",
        "    :param heart_rate: Heart rate in beats per minute (int)\n",
        "    :param systolic_bp: Systolic BP in mmHg (int)\n",
        "    :param temperature: Temperature in degrees C (float)\n",
        "    :param alertness: Alertness as a string description (str)\n",
        "    :param inspired_oxygen: Inspired Oxygen as a string description (str)\n",
        "    :param performance_status: Performance Status as a string description (str)\n",
        "    :return: Risk percentage as a numeric value between 0 and 1 (float)\n",
        "\n",
        "    >>> priest('male', 25, 20, 0.98, 70, 120, 37, 'alert', 'room air', 'unrestricted normal activity')\n",
        "    0.01\n",
        "    >>> priest('female', 75, 30, 0.9, 100, 90, 38.5, 'confused', 'supplemental oxygen', 'limited self care')\n",
        "    0.59\n",
        "    >>> priest('MALE', 50, 25, 0.95, 80, 110, 37.5, 'Alert', 'Room Air', 'Normal Activity')\n",
        "    0.06\n",
        "    \"\"\"\n",
        "    # Normalize input strings\n",
        "    sex = sex.lower()\n",
        "    alertness = alertness.lower()\n",
        "    inspired_oxygen = inspired_oxygen.lower()\n",
        "    performance_status = performance_status.lower()\n",
        "\n",
        "    # Validate inputs\n",
        "    if sex not in ['male', 'female'] or not (0 <= oxygen_saturation <= 1):\n",
        "        return None\n",
        "\n",
        "    score = 0\n",
        "\n",
        "    # Sex\n",
        "    if sex == 'male':\n",
        "        score += 1\n",
        "\n",
        "    # Age\n",
        "    if 50 <= age <= 65:\n",
        "        score += 2\n",
        "    elif 66 <= age <= 80:\n",
        "        score += 3\n",
        "    elif age > 80:\n",
        "        score += 4\n",
        "\n",
        "    # Respiratory rate\n",
        "    if 20 <= respiratory_rate <= 24:\n",
        "        score += 1\n",
        "    elif respiratory_rate >= 25:\n",
        "        score += 2\n",
        "\n",
        "    # Oxygen saturation\n",
        "    if 0.94 <= oxygen_saturation <= 0.95:\n",
        "        score += 1\n",
        "    elif 0.92 <= oxygen_saturation <= 0.93:\n",
        "        score += 2\n",
        "    elif oxygen_saturation < 0.92:\n",
        "        score += 3\n",
        "\n",
        "    # Heart rate\n",
        "    if 91 <= heart_rate <= 110:\n",
        "        score += 1\n",
        "    elif 111 <= heart_rate <= 130:\n",
        "        score += 2\n",
        "    elif heart_rate > 130:\n",
        "        score += 3\n",
        "\n",
        "    # Systolic BP\n",
        "    if 91 <= systolic_bp <= 100:\n",
        "        score += 2\n",
        "    elif systolic_bp <= 90:\n",
        "        score += 3\n",
        "\n",
        "    # Temperature\n",
        "    if temperature >= 39:\n",
        "        score += 2\n",
        "\n",
        "    # Alertness\n",
        "    if alertness in ['confused', 'voice', 'pain', 'unresponsive']:\n",
        "        score += 3\n",
        "\n",
        "    # Inspired oxygen\n",
        "    if inspired_oxygen != 'room air':\n",
        "        score += 2\n",
        "\n",
        "    # Performance status\n",
        "    if 'limited activity' in performance_status:\n",
        "        score += 1\n",
        "    elif 'limited self care' in performance_status:\n",
        "        score += 2\n",
        "    elif 'bed/chair bound' in performance_status:\n",
        "        score += 3\n",
        "\n",
        "    # Calculate probability\n",
        "    if score <= 3:\n",
        "        return 0.01\n",
        "    elif 4 <= score <= 5:\n",
        "        return 0.02\n",
        "    elif 6 <= score <= 7:\n",
        "        return 0.06\n",
        "    elif 8 <= score <= 9:\n",
        "        return 0.12\n",
        "    elif 10 <= score <= 11:\n",
        "        return 0.23\n",
        "    elif 12 <= score <= 13:\n",
        "        return 0.38\n",
        "    elif 14 <= score <= 16:\n",
        "        return 0.55\n",
        "    elif 17 <= score <= 25:\n",
        "        return 0.59\n",
        "    else:\n",
        "        return 0.99\n",
        "\n",
        "# Run doctests for this function\n",
        "import doctest\n",
        "doctest.run_docstring_examples(priest, globals(), verbose=True)"
      ]
    },
    {
      "cell_type": "code",
      "execution_count": 9,
      "metadata": {
        "id": "Tno5kps0fzsE",
        "outputId": "13e48b47-763b-45ec-dbc7-e95062ae0fec",
        "colab": {
          "base_uri": "https://localhost:8080/"
        }
      },
      "outputs": [
        {
          "output_type": "stream",
          "name": "stdout",
          "text": [
            "Finding tests in NoName\n",
            "Trying:\n",
            "    priest('male', 25, 20, 0.98, 70, 120, 37, 'alert', 'room air', 'unrestricted normal activity')\n",
            "Expecting:\n",
            "    0.01\n",
            "ok\n",
            "Trying:\n",
            "    priest('female', 75, 30, 0.9, 100, 90, 38.5, 'confused', 'supplemental oxygen', 'limited self care')\n",
            "Expecting:\n",
            "    0.59\n",
            "ok\n",
            "Trying:\n",
            "    priest('MALE', 50, 25, 0.95, 80, 110, 37.5, 'Alert', 'Room Air', 'Normal Activity')\n",
            "Expecting:\n",
            "    0.06\n",
            "ok\n"
          ]
        }
      ],
      "source": [
        "import doctest\n",
        "doctest.run_docstring_examples(priest, globals(),verbose=True)"
      ]
    },
    {
      "cell_type": "markdown",
      "metadata": {
        "id": "LhNlfApafzsF"
      },
      "source": [
        "## Part 2: Find a hospital\n",
        "\n",
        "The next thing we have to do is figure out where to send this particular patient.  The guidelines on where to send a patient are based on their age (pediatric, adult, geriatric), sex, and risk percentage.  Luckily, you don't have to implement these rules. I already have. All you have to do is use a REST web service that I've created for you.\n",
        "\n",
        "You'll want to use Python to make a call to my REST web service similar to the example URL below. The first part of the URL will be the same for everyone and every request that you make. What you will need to modify for each of your requests is the information after the question mark.\n",
        "\n",
        "```\n",
        "https://oumdj6oci2.execute-api.us-east-1.amazonaws.com/prd/?age=40&sex=male&risk_pct=0.1\n",
        "```\n",
        "\n",
        "The example above asks my web service where a 40-year old male with a risk of 10% should go.  What the web service will return back is a JSON string containing the information you need.  That JSON will look like this:\n",
        "\n",
        "```json\n",
        "{\n",
        "  \"age\": \"40\",\n",
        "  \"sex\": \"male\",\n",
        "  \"risk\": \"0.1\",\n",
        "  \"hospital\": \"Southwest Hospital and Medical Center\"\n",
        "}\n",
        "```\n",
        "\n",
        "My function is not smart enough to understand `'MALE'` is the same as `'male'`.  You have to send it exactly `'male'` or `'female'`\n",
        "\n",
        "1. Your job is to write a function called **find_hospital()** that takes age, sex, and risk as parameters.\n",
        "2. Your function should call this REST web service using the `requests` module\n",
        "3. Then your function will need to interpret the JSON it gets and return just the name of the hospital\n",
        "4. If anything fails, return None\n",
        "5. Include a good docstring with at least three test cases.\n"
      ]
    },
    {
      "cell_type": "code",
      "execution_count": 10,
      "metadata": {
        "id": "Y2PrGInkfzsF",
        "outputId": "4dc55743-c871-49d0-fd9e-dee6ba6dc961",
        "colab": {
          "base_uri": "https://localhost:8080/"
        }
      },
      "outputs": [
        {
          "output_type": "stream",
          "name": "stdout",
          "text": [
            "Finding tests in NoName\n",
            "Trying:\n",
            "    find_hospital(40, 'male', 0.1)\n",
            "Expecting:\n",
            "    'Southwest Hospital and Medical Center'\n",
            "ok\n",
            "Trying:\n",
            "    find_hospital(25, 'female', 0.05)\n",
            "Expecting:\n",
            "    'Select Specialty Hospital - Northeast Atlanta'\n",
            "ok\n",
            "Trying:\n",
            "    find_hospital(70, 'male', 0.8)\n",
            "Expecting:\n",
            "    'Wesley Woods Geriatric Hospital'\n",
            "ok\n"
          ]
        }
      ],
      "source": [
        "import requests\n",
        "\n",
        "def find_hospital(age, sex, risk):\n",
        "    \"\"\"\n",
        "    Find the appropriate hospital based on age, sex, and risk.\n",
        "\n",
        "    :param age: Age in years (int)\n",
        "    :param sex: Gender (str)\n",
        "    :param risk: Risk percentage as a float between 0 and 1\n",
        "    :return: Hospital name (str) or None if request fails\n",
        "\n",
        "    >>> find_hospital(40, 'male', 0.1)\n",
        "    'Southwest Hospital and Medical Center'\n",
        "    >>> find_hospital(25, 'female', 0.05)\n",
        "    'Select Specialty Hospital - Northeast Atlanta'\n",
        "    >>> find_hospital(70, 'male', 0.8)\n",
        "    'Wesley Woods Geriatric Hospital'\n",
        "    \"\"\"\n",
        "    url = f\"https://oumdj6oci2.execute-api.us-east-1.amazonaws.com/prd/?age={age}&sex={sex.lower()}&risk_pct={risk}\"\n",
        "    try:\n",
        "        response = requests.get(url)\n",
        "        data = response.json()\n",
        "        return data['hospital']\n",
        "    except:\n",
        "        return None\n",
        "\n",
        "# Run doctests for this function\n",
        "import doctest\n",
        "doctest.run_docstring_examples(find_hospital, globals(), verbose=True)"
      ]
    },
    {
      "cell_type": "code",
      "execution_count": 11,
      "metadata": {
        "id": "hFG2FxmufzsF",
        "outputId": "9e344871-7fee-476c-ccc3-cb7ffe724631",
        "colab": {
          "base_uri": "https://localhost:8080/"
        }
      },
      "outputs": [
        {
          "output_type": "stream",
          "name": "stdout",
          "text": [
            "Finding tests in NoName\n",
            "Trying:\n",
            "    find_hospital(40, 'male', 0.1)\n",
            "Expecting:\n",
            "    'Southwest Hospital and Medical Center'\n",
            "ok\n",
            "Trying:\n",
            "    find_hospital(25, 'female', 0.05)\n",
            "Expecting:\n",
            "    'Select Specialty Hospital - Northeast Atlanta'\n",
            "ok\n",
            "Trying:\n",
            "    find_hospital(70, 'male', 0.8)\n",
            "Expecting:\n",
            "    'Wesley Woods Geriatric Hospital'\n",
            "ok\n"
          ]
        }
      ],
      "source": [
        "import doctest\n",
        "doctest.run_docstring_examples(find_hospital, globals(),verbose=True)"
      ]
    },
    {
      "cell_type": "markdown",
      "metadata": {
        "id": "wq7xb6M9fzsF"
      },
      "source": [
        "## Part 3: Get the address for that hospital from a JSON file\n",
        "\n",
        "Great! Now we have code to tell us which hospital to send someone to... but we don't know where that hospital is. The next function we need to create is one that looks up the address of that hospital.  All of these hospitals are in Atlanta, Georgia.  We're going to use the list from this webpage to lookup the address for that hospital, based on its name.  https://www.officialusa.com/stateguides/health/hospitals/georgia.html\n",
        "\n",
        "Because we skipped the section about Beautiful Soup and working with HTML, I've converted this information into a JSON document for you.  It's available for you here.  Your code should retrieve this file using the `requests` module.\n",
        "\n",
        "`https://drive.google.com/uc?export=download&id=1fIFD-NkcdiMu941N4GjyMDWxiKsFJBw-`\n",
        "\n",
        "1. You need to create a function called **get_address()** that takes hospital name as a parameter and searches the data from this JSON file for the hospital you want to find.\n",
        "2. Your code will have to load the JSON and return the correct hospital based on name.\n",
        "3. If the hospital name isn't found, the function should return None.\n",
        "4. Be sure to use good docstring documentation and includes at least 3 test cases."
      ]
    },
    {
      "cell_type": "code",
      "execution_count": 12,
      "metadata": {
        "id": "xTAyE2TSfzsG",
        "outputId": "57effdc5-c5a8-4088-c0a7-a35a1fdaa21a",
        "colab": {
          "base_uri": "https://localhost:8080/"
        }
      },
      "outputs": [
        {
          "output_type": "stream",
          "name": "stdout",
          "text": [
            "Finding tests in NoName\n",
            "Trying:\n",
            "    get_address(\"GRADY MEMORIAL HOSPITAL\")\n",
            "Expecting:\n",
            "    '80 JESSE HILL, JR DRIVE SE'\n",
            "**********************************************************************\n",
            "File \"__main__\", line 11, in NoName\n",
            "Failed example:\n",
            "    get_address(\"GRADY MEMORIAL HOSPITAL\")\n",
            "Expected:\n",
            "    '80 JESSE HILL, JR DRIVE SE'\n",
            "Got nothing\n",
            "Trying:\n",
            "    get_address(\"EMORY UNIVERSITY HOSPITAL MIDTOWN\")\n",
            "Expecting:\n",
            "    '550 PEACHTREE ST NE'\n",
            "**********************************************************************\n",
            "File \"__main__\", line 14, in NoName\n",
            "Failed example:\n",
            "    get_address(\"EMORY UNIVERSITY HOSPITAL MIDTOWN\")\n",
            "Expected:\n",
            "    '550 PEACHTREE ST NE'\n",
            "Got nothing\n",
            "Trying:\n",
            "    get_address(\"PIEDMONT HOSPITAL\")\n",
            "Expecting:\n",
            "    '1968 PEACHTREE ROAD NW'\n",
            "**********************************************************************\n",
            "File \"__main__\", line 17, in NoName\n",
            "Failed example:\n",
            "    get_address(\"PIEDMONT HOSPITAL\")\n",
            "Expected:\n",
            "    '1968 PEACHTREE ROAD NW'\n",
            "Got nothing\n",
            "Trying:\n",
            "    get_address(\"NONEXISTENT HOSPITAL\") is None\n",
            "Expecting:\n",
            "    True\n",
            "ok\n",
            "Trying:\n",
            "    get_address(\"\") is None\n",
            "Expecting:\n",
            "    True\n",
            "ok\n"
          ]
        }
      ],
      "source": [
        "import json\n",
        "import requests\n",
        "\n",
        "def get_address(hospital_name):\n",
        "    \"\"\"\n",
        "    Get the address of a hospital from a JSON file.\n",
        "\n",
        "    :param hospital_name: Name of the hospital (str)\n",
        "    :return: Address of the hospital (str) or None if not found\n",
        "\n",
        "    >>> get_address(\"GRADY MEMORIAL HOSPITAL\")\n",
        "    '80 JESSE HILL, JR DRIVE SE'\n",
        "\n",
        "    >>> get_address(\"EMORY UNIVERSITY HOSPITAL MIDTOWN\")\n",
        "    '550 PEACHTREE ST NE'\n",
        "\n",
        "    >>> get_address(\"PIEDMONT HOSPITAL\")\n",
        "    '1968 PEACHTREE ROAD NW'\n",
        "\n",
        "    >>> get_address(\"NONEXISTENT HOSPITAL\") is None\n",
        "    True\n",
        "\n",
        "    >>> get_address(\"\") is None\n",
        "    True\n",
        "    \"\"\"\n",
        "    if not isinstance(hospital_name, str) or not hospital_name:\n",
        "        return None\n",
        "\n",
        "    try:\n",
        "        with open('ga_hospitals (3).json', 'r') as f:\n",
        "            hospitals = json.load(f)\n",
        "\n",
        "        if hospital_name in hospitals:\n",
        "            return hospitals[hospital_name][\"ADDRESS\"]\n",
        "        return None\n",
        "\n",
        "    except (FileNotFoundError, json.JSONDecodeError):\n",
        "        return None\n",
        "import doctest\n",
        "doctest.run_docstring_examples(get_address, globals(), verbose=True)"
      ]
    },
    {
      "cell_type": "markdown",
      "metadata": {
        "id": "y5-hO4bXfzsG"
      },
      "source": [
        "## Part 4: Run the risk calculator on a population\n",
        "\n",
        "At the link below, there is a file called `people.psv`.  It is a pipe-delimited (`|`) file with columns that match the inputs for the PRIEST calculation above.  Your code should use the `requests` module to retrieve the file from this URL.\n",
        "\n",
        "`https://drive.google.com/uc?export=download&id=1fLxJN9YGUqmqExrilxSS8furwUER5HHh`\n",
        "\n",
        "\n",
        "In addition, the file has a patient identifier in the first column.\n",
        "\n",
        "1. Write a function called **process_people()** that takes the file location above as its only parameter. Your Python program should use your code above to process all of these rows, determine the hospital and address, and return a list whose items are a dictionary like this: `{ patient_number: [sex, age, breath, o2sat, heart, systolic, temp, alertness, inspired, status, hospital, address]}`.  Look at the file in Part 5 for what the output looks like.\n",
        "2. Be sure to use good docstrings, but you don't need any tests in your doc strings.  I've provided those for you withe file in Part 5.\n",
        "\n",
        "\n",
        "**NOTE** that when running your code for all the 100 records in the `people.psv` file, it may take a few minutes to complete.  You're making multiple calls to the internet for each record, so that can take a little while.\n"
      ]
    },
    {
      "cell_type": "code",
      "execution_count": 13,
      "metadata": {
        "id": "yOskWx8xfzsG"
      },
      "outputs": [],
      "source": [
        "import requests\n",
        "\n",
        "def process_people(file_url):\n",
        "    \"\"\"\n",
        "    Process people data from a PSV file and return a list of dictionaries with patient information.\n",
        "\n",
        "    :param file_url: URL of the PSV file\n",
        "    :return: List of dictionaries with patient information\n",
        "    \"\"\"\n",
        "    result = []\n",
        "    try:\n",
        "        response = requests.get(file_url)\n",
        "        lines = response.text.strip().split('\\n')\n",
        "        headers = lines[0].split('|')\n",
        "        for line in lines[1:]:\n",
        "            data = line.split('|')\n",
        "            patient = dict(zip(headers, data))\n",
        "            risk = priest(patient['Sex'], int(patient['Age']), int(patient['RespiratoryRate']),\n",
        "                          float(patient['O2Saturation']), int(patient['HeartRate']),\n",
        "                          int(patient['SystolicBP']), float(patient['Temperature']),\n",
        "                          patient['Alertness'], patient['InspiredOxygen'],\n",
        "                          patient['PerformanceStatus'])\n",
        "            if risk is not None:\n",
        "                hospital = find_hospital(int(patient['Age']), patient['Sex'], risk)\n",
        "                address = get_address(hospital)\n",
        "                result.append({\n",
        "                    patient['PatientNumber']: [\n",
        "                        patient['Sex'], patient['Age'], patient['RespiratoryRate'],\n",
        "                        patient['O2Saturation'], patient['HeartRate'], patient['SystolicBP'],\n",
        "                        patient['Temperature'], patient['Alertness'], patient['InspiredOxygen'],\n",
        "                        patient['PerformanceStatus'], hospital, address\n",
        "                    ]\n",
        "                })\n",
        "    except:\n",
        "        pass\n",
        "    return result"
      ]
    },
    {
      "cell_type": "markdown",
      "metadata": {
        "id": "nbEritjufzsG"
      },
      "source": [
        "## Part 5: Checking your final results\n",
        "\n",
        "The final step is to check your results.  You should be able to compare your results to the output in `people_results.json` at the link below.  Write some code to check your results.  This does not need to be a function.\n",
        "\n",
        "`https://drive.google.com/uc?export=download&id=1gx1SSC20mO5XL6uYD0mdcM_cL91fcIW5`\n"
      ]
    },
    {
      "cell_type": "code",
      "execution_count": 14,
      "metadata": {
        "id": "0QyA89DHfzsH",
        "outputId": "3731548e-9de4-49f9-b968-b25169fdbfed",
        "colab": {
          "base_uri": "https://localhost:8080/"
        }
      },
      "outputs": [
        {
          "output_type": "stream",
          "name": "stdout",
          "text": [
            "Mismatch in number of records. Expected: 99, Got: 0\n",
            "Trying:\n",
            "    find_hospital(40, 'male', 0.1)\n",
            "Expecting:\n",
            "    'Southwest Hospital and Medical Center'\n",
            "ok\n",
            "Trying:\n",
            "    find_hospital(25, 'female', 0.05)\n",
            "Expecting:\n",
            "    'Select Specialty Hospital - Northeast Atlanta'\n",
            "ok\n",
            "Trying:\n",
            "    find_hospital(70, 'male', 0.8)\n",
            "Expecting:\n",
            "    'Wesley Woods Geriatric Hospital'\n",
            "ok\n",
            "Trying:\n",
            "    get_address(\"GRADY MEMORIAL HOSPITAL\")\n",
            "Expecting:\n",
            "    '80 JESSE HILL, JR DRIVE SE'\n",
            "**********************************************************************\n",
            "File \"__main__\", line 11, in __main__.get_address\n",
            "Failed example:\n",
            "    get_address(\"GRADY MEMORIAL HOSPITAL\")\n",
            "Expected:\n",
            "    '80 JESSE HILL, JR DRIVE SE'\n",
            "Got nothing\n",
            "Trying:\n",
            "    get_address(\"EMORY UNIVERSITY HOSPITAL MIDTOWN\")\n",
            "Expecting:\n",
            "    '550 PEACHTREE ST NE'\n",
            "**********************************************************************\n",
            "File \"__main__\", line 14, in __main__.get_address\n",
            "Failed example:\n",
            "    get_address(\"EMORY UNIVERSITY HOSPITAL MIDTOWN\")\n",
            "Expected:\n",
            "    '550 PEACHTREE ST NE'\n",
            "Got nothing\n",
            "Trying:\n",
            "    get_address(\"PIEDMONT HOSPITAL\")\n",
            "Expecting:\n",
            "    '1968 PEACHTREE ROAD NW'\n",
            "**********************************************************************\n",
            "File \"__main__\", line 17, in __main__.get_address\n",
            "Failed example:\n",
            "    get_address(\"PIEDMONT HOSPITAL\")\n",
            "Expected:\n",
            "    '1968 PEACHTREE ROAD NW'\n",
            "Got nothing\n",
            "Trying:\n",
            "    get_address(\"NONEXISTENT HOSPITAL\") is None\n",
            "Expecting:\n",
            "    True\n",
            "ok\n",
            "Trying:\n",
            "    get_address(\"\") is None\n",
            "Expecting:\n",
            "    True\n",
            "ok\n",
            "Trying:\n",
            "    priest('male', 25, 20, 0.98, 70, 120, 37, 'alert', 'room air', 'unrestricted normal activity')\n",
            "Expecting:\n",
            "    0.01\n",
            "ok\n",
            "Trying:\n",
            "    priest('female', 75, 30, 0.9, 100, 90, 38.5, 'confused', 'supplemental oxygen', 'limited self care')\n",
            "Expecting:\n",
            "    0.59\n",
            "ok\n",
            "Trying:\n",
            "    priest('MALE', 50, 25, 0.95, 80, 110, 37.5, 'Alert', 'Room Air', 'Normal Activity')\n",
            "Expecting:\n",
            "    0.06\n",
            "ok\n",
            "3 items had no tests:\n",
            "    __main__\n",
            "    __main__.check_results\n",
            "    __main__.process_people\n",
            "2 items passed all tests:\n",
            "   3 tests in __main__.find_hospital\n",
            "   3 tests in __main__.priest\n",
            "**********************************************************************\n",
            "1 items had failures:\n",
            "   3 of   5 in __main__.get_address\n",
            "11 tests in 6 items.\n",
            "8 passed and 3 failed.\n",
            "***Test Failed*** 3 failures.\n"
          ]
        },
        {
          "output_type": "execute_result",
          "data": {
            "text/plain": [
              "TestResults(failed=3, attempted=11)"
            ]
          },
          "metadata": {},
          "execution_count": 14
        }
      ],
      "source": [
        "import json\n",
        "import requests\n",
        "\n",
        "def check_results(processed_data):\n",
        "    url = \"https://drive.google.com/uc?export=download&id=1gx1SSC20mO5XL6uYD0mdcM_cL91fcIW5\"\n",
        "    try:\n",
        "        response = requests.get(url)\n",
        "        expected_results = json.loads(response.text)\n",
        "\n",
        "        if len(processed_data) != len(expected_results):\n",
        "            print(f\"Mismatch in number of records. Expected: {len(expected_results)}, Got: {len(processed_data)}\")\n",
        "            return\n",
        "\n",
        "        for processed, expected in zip(processed_data, expected_results):\n",
        "            if processed != expected:\n",
        "                print(f\"Mismatch in data: \\nProcessed: {processed}\\nExpected: {expected}\")\n",
        "                return\n",
        "\n",
        "        print(\"All results match the expected output!\")\n",
        "    except:\n",
        "        print(\"Error occurred while checking results\")\n",
        "\n",
        "# Run the entire process\n",
        "if __name__ == \"__main__\":\n",
        "    file_url = \"https://drive.google.com/uc?export=download&id=1fLxJN9YGUqmqExrilxSS8furwUER5HHh\"\n",
        "    processed_data = process_people(file_url)\n",
        "    check_results(processed_data)\n",
        "\n",
        "# Run doctests for all functions\n",
        "import doctest\n",
        "doctest.testmod(verbose=True)"
      ]
    },
    {
      "cell_type": "markdown",
      "metadata": {
        "id": "scsSH4LsfzsH"
      },
      "source": [
        "---\n",
        "\n",
        "## Check your work above\n",
        "\n",
        "If you didn't get them all correct, take a few minutes to think through those that aren't correct.\n",
        "\n",
        "\n",
        "## Submitting Your Work\n",
        "\n",
        "Submit your work as usual into a folder named `midterm`"
      ]
    },
    {
      "cell_type": "markdown",
      "metadata": {
        "id": "GjFEvIu0fzsH"
      },
      "source": [
        "---"
      ]
    }
  ],
  "metadata": {
    "kernelspec": {
      "display_name": "Python 3",
      "language": "python",
      "name": "python3"
    },
    "language_info": {
      "codemirror_mode": {
        "name": "ipython",
        "version": 3
      },
      "file_extension": ".py",
      "mimetype": "text/x-python",
      "name": "python",
      "nbconvert_exporter": "python",
      "pygments_lexer": "ipython3",
      "version": "3.9.6"
    },
    "colab": {
      "provenance": [],
      "include_colab_link": true
    }
  },
  "nbformat": 4,
  "nbformat_minor": 0
}