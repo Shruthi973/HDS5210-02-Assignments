{
  "cells": [
    {
      "cell_type": "markdown",
      "metadata": {
        "id": "nxpqI63X9jug"
      },
      "source": [
        "# Week 11 Assignment\n",
        "\n",
        "\n",
        "Please do the programming exercise and verify that your code works using the tests, then think about your final project and fill out the questions in the second part.\n",
        "\n",
        "---\n",
        "---"
      ]
    },
    {
      "cell_type": "markdown",
      "metadata": {
        "id": "qIMkl5my9juj"
      },
      "source": [
        "### 47.1: Filtering and summarizing data\n",
        "\n",
        "For this work, you'll find a data file in `https://hds5210-data.s3.amazonaws.com/complications_all.csv`.\n",
        "\n",
        "Read in the data file and create a variable called `mo_hospitals` that contains a data frame from the `complications_all.csv` file, filtered down to only contain those hospitals from the state of Missouri (MO).\n",
        "\n",
        "Then aggregate that data by hospital into a variable named `mo_summary`.  There are some key fields that we want to summarize:\n",
        "* We want to know the earliest date that each hospital was participating in any program\n",
        "* We want to know the latest date that each hospital stopped participating in any program\n",
        "* We want to know the total number of patients in the denominators of these programs\n",
        "\n",
        "Some things to note:\n",
        "* You will need to convert the `Start Date` and `End Date` to actual datetime fields\n",
        "* You will need to clean up and convert the `Denominator` field to just be numeric - the rule that you should use it to simply remove any records where the `Denominator` is `'Not Available'`\n",
        "\n",
        "\n",
        "The final result of this step should be a new data frame called `mo_summary` that contains one row for each hospital and contains the min start date, max end date, and total denominator.  Use the names `start_date`, `end_date`, and `number` for those columns in `mo_summary`.\n",
        "\n",
        "\n",
        "You do not need to create your code in the form of a function, just make sure your variable names match what I've described above so the tests work."
      ]
    },
    {
      "cell_type": "code",
      "execution_count": 15,
      "metadata": {
        "id": "qzH9OPCW9juk"
      },
      "outputs": [],
      "source": [
        "import pandas as pd\n",
        "# This is just to show you the name to use for the variable you need to create for this step to pass.\n",
        "all_hospitals = pd.read_csv('https://hds5210-data.s3.amazonaws.com/complications_all.csv')\n"
      ]
    },
    {
      "cell_type": "code",
      "source": [
        "import pandas as pd\n",
        "\n",
        "# 1. Read the data\n",
        "all_hospitals = pd.read_csv('https://hds5210-data.s3.amazonaws.com/complications_all.csv')\n",
        "\n",
        "# 2. Create mo_hospitals with Missouri data\n",
        "mo_hospitals = all_hospitals[all_hospitals['State'] == 'MO'].copy()\n",
        "\n",
        "# 3. Convert dates using loc\n",
        "mo_hospitals.loc[:, 'Start Date'] = pd.to_datetime(mo_hospitals['Start Date'])\n",
        "mo_hospitals.loc[:, 'End Date'] = pd.to_datetime(mo_hospitals['End Date'])\n",
        "\n",
        "# 4. Clean Denominator data\n",
        "mo_hospitals = mo_hospitals[mo_hospitals['Denominator'] != 'Not Available']\n",
        "mo_hospitals.loc[:, 'Denominator'] = pd.to_numeric(mo_hospitals['Denominator'])\n",
        "\n",
        "# 5. Create mo_summary - using the exact column name from the dataset\n",
        "mo_summary = mo_hospitals.groupby('Facility Name').agg({\n",
        "    'Start Date': 'min',\n",
        "    'End Date': 'max',\n",
        "    'Denominator': 'sum'\n",
        "}).rename(columns={\n",
        "    'Start Date': 'start_date',\n",
        "    'End Date': 'end_date',\n",
        "    'Denominator': 'number'\n",
        "})\n",
        "\n",
        "# Verify results\n",
        "print(\"\\nShape of mo_summary:\", mo_summary.shape)\n",
        "print(\"Total patients:\", mo_summary['number'].sum())\n",
        "print(\"Date range:\", mo_summary['start_date'].min(), \"to\", mo_summary['end_date'].max())\n",
        "print(\"\\nBarnes Jewish Hospital number:\", mo_summary.loc['BARNES JEWISH HOSPITAL', 'number'])\n",
        "print(\"Boone Hospital Center number:\", mo_summary.loc['BOONE HOSPITAL CENTER', 'number'])"
      ],
      "metadata": {
        "id": "vAZjRAZLCoIu",
        "outputId": "5a4666a6-54ec-4444-ad52-b3978365cf8e",
        "colab": {
          "base_uri": "https://localhost:8080/"
        }
      },
      "execution_count": 16,
      "outputs": [
        {
          "output_type": "stream",
          "name": "stdout",
          "text": [
            "\n",
            "Shape of mo_summary: (108, 3)\n",
            "Total patients: 1766908\n",
            "Date range: 2015-04-01 00:00:00 to 2018-06-30 00:00:00\n",
            "\n",
            "Barnes Jewish Hospital number: 131313\n",
            "Boone Hospital Center number: 63099\n"
          ]
        }
      ]
    },
    {
      "cell_type": "code",
      "execution_count": 17,
      "metadata": {
        "id": "j12CINPN9jul"
      },
      "outputs": [],
      "source": [
        "assert(mo_summary['number'].sum() == 1766908)\n",
        "assert(mo_summary['start_date'].min() == pd.Timestamp(2015,4,1))\n",
        "assert(mo_summary['end_date'].max() == pd.Timestamp(2018,6,30))\n",
        "assert(mo_summary.shape == (108,3))\n",
        "assert(mo_summary.loc['BARNES JEWISH HOSPITAL'].number == 131313)\n",
        "assert(mo_summary.loc['BOONE HOSPITAL CENTER'].number == 63099)"
      ]
    },
    {
      "cell_type": "markdown",
      "metadata": {
        "id": "llrA1zUx9jum"
      },
      "source": [
        "---\n",
        "\n",
        "### 47.2 Planning your final project\n",
        "\n",
        "You should be thinking about the things we've been learning and how you can apply them to your final project.  Use the rubric to help guid your thinking and then answer the questions below.  This is meant as a guide to help you think through what you will do."
      ]
    },
    {
      "cell_type": "markdown",
      "metadata": {
        "id": "RsDC33BN9jum"
      },
      "source": [
        "#### A) Data Access\n",
        "\n",
        "Your project should include data from at least three distinct types of sources.  For example: AWS S3, Relational Databases, Internet, Web Services, local files.  List what data sources you're planning to use."
      ]
    },
    {
      "cell_type": "markdown",
      "metadata": {
        "id": "CTnqSs2m9jum"
      },
      "source": [
        "I will use three main ways to get data for my project:\n",
        "\n",
        "*AWS S3 Storage: Like a big online folder where we can keep lots of health data files (just like the hospital file we used)\n",
        "*SQL Database: A place to store and organize patient information in a way that's easy to find and use\n",
        "*Web APIs: Tools that let us get live data directly from hospital systems\n",
        "\n",
        "\n"
      ]
    },
    {
      "cell_type": "markdown",
      "metadata": {
        "id": "Ag1Tf0ie9jum"
      },
      "source": [
        "#### B. Data Formats\n",
        "\n",
        "Your project should include data that comes in different file formats.  For example: HL7, EDI, HTML, CSV, Excel, JSON, XML.  List what data formats you're planning to use."
      ]
    },
    {
      "cell_type": "markdown",
      "metadata": {
        "id": "l5xj-Zu59jum"
      },
      "source": [
        "My project will work with these types of files:\n",
        "\n",
        "*CSV Files: Simple files like spreadsheets that hold lists of hospital data\n",
        "*JSON Files: Files that websites commonly use to share data\n",
        "*XML Files: Another way to organize and share hospital information\n",
        "*HL7 Files: Special files made just for healthcare data\n",
        "*Excel Files: Spreadsheets that hospital staff often use for reports\n"
      ]
    },
    {
      "cell_type": "markdown",
      "metadata": {
        "id": "9OF2PGxd9jun"
      },
      "source": [
        "#### C. Objective\n",
        "\n",
        "What purpose would your project serve in a real work setting?  Take a couple of paragraphs to write down why this is an interesting product."
      ]
    },
    {
      "cell_type": "markdown",
      "metadata": {
        "id": "b3dVu5j09jun"
      },
      "source": [
        "This project would help hospitals track and improve their work. Here's how it would help in real life:\n",
        "First, it would save time by automatically collecting and analyzing data from different hospitals. Instead of staff spending hours gathering information by hand, the system would do it automatically.\n",
        "The main benefits would be:\n",
        "\n",
        "*Making it easier to see how well hospitals are caring for patients\n",
        "*Helping hospital managers make better decisions using real data\n",
        "*Creating reports that hospitals need to show they're following healthcare rules\n",
        "\n",
        "For example, just like we analyzed Missouri hospital data in our code, this system would help hospital leaders quickly see important information about patient care and make their hospitals work better.\n",
        "This simple approach would help hospitals:\n",
        "\n",
        "*Spend less time on paperwork\n",
        "*Find and fix problems faster\n",
        "*Take better care of patients\n",
        "*Keep track of everything more easily\n"
      ]
    },
    {
      "cell_type": "markdown",
      "metadata": {
        "id": "EXdCqJ-x9jun"
      },
      "source": [
        "\n",
        "\n",
        "---\n",
        "\n",
        "\n",
        "\n",
        "## Submit your work via GitHub as normal\n"
      ]
    }
  ],
  "metadata": {
    "kernelspec": {
      "display_name": "Python 3",
      "language": "python",
      "name": "python3"
    },
    "language_info": {
      "codemirror_mode": {
        "name": "ipython",
        "version": 3
      },
      "file_extension": ".py",
      "mimetype": "text/x-python",
      "name": "python",
      "nbconvert_exporter": "python",
      "pygments_lexer": "ipython3",
      "version": "3.9.16"
    },
    "colab": {
      "provenance": []
    }
  },
  "nbformat": 4,
  "nbformat_minor": 0
}