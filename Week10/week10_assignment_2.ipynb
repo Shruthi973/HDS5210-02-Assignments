{
  "cells": [
    {
      "cell_type": "markdown",
      "metadata": {
        "id": "oVansVdjnE7P"
      },
      "source": [
        "# Week 9 Assignment\n",
        "\n",
        "_MkKinney 6.1_\n",
        "\n",
        "The work this week has involved using Pandas to load, manipulate, and visualize data.  For this exercise, we're going to be working with some of the price transparency data from [Baptist Health Medical Center](https://www.baptist-health.com/hospital-charges-and-negotiated-rates/) in Little Rock, AR. We've chosen them because their data is relatively easy to reach with Pandas and has some interesting insights.\n",
        "\n",
        "Note that the files we're working with here are from 2021. Baptist Health has since changed the file format.  This won't work correctly if you try to do it with files downloaded from the website above. It will only work with these files.\n",
        "\n",
        "---\n",
        "---"
      ]
    },
    {
      "cell_type": "markdown",
      "metadata": {
        "id": "OUBrh9vknE7Q"
      },
      "source": [
        " 41.1 Loading and viewing the data\n",
        "\n",
        "Here is URL to sample file for Baptist Health:\n",
        "* https://hds5210-data.s3.amazonaws.com/bhmclr_drg.xlsx\n",
        "\n",
        "For this first step, we're going to load the DRG data and inspect it using Pandas.  If you download this file and open it in Excel, there will be a few things you notice:\n",
        "1. The workbook has two sheets: \"Pivot\" and \"Sheet1\" - \"Sheet1\" is the one we want\n",
        "2. \"Sheet1\" has three rows before we get to the actual table header - we'll want to skip those rows\n",
        "3. Also, I've filtered the data to just those DRGs where the cash price is less than 20,000 for demo purposes"
      ]
    },
    {
      "cell_type": "code",
      "execution_count": null,
      "metadata": {
        "id": "epVtWdGTnE7Q"
      },
      "outputs": [],
      "source": [
        "import pandas as pd\n",
        "import matplotlib.pyplot as plt\n",
        "url = 'https://hds5210-data.s3.amazonaws.com/bhmclr_drg.xlsx'\n",
        "\n",
        "data = pd.read_excel(url, sheet_name='Sheet1', skiprows=3)"
      ]
    },
    {
      "cell_type": "code",
      "execution_count": null,
      "metadata": {
        "id": "pTQrSomsnE7Q"
      },
      "outputs": [],
      "source": [
        "data.shape"
      ]
    },
    {
      "cell_type": "code",
      "execution_count": null,
      "metadata": {
        "id": "3vmRvKBynE7Q"
      },
      "outputs": [],
      "source": [
        "data.columns"
      ]
    },
    {
      "cell_type": "code",
      "execution_count": null,
      "metadata": {
        "id": "ESdwz69bnE7Q"
      },
      "outputs": [],
      "source": [
        "data.head()"
      ]
    },
    {
      "cell_type": "code",
      "execution_count": null,
      "metadata": {
        "id": "vVSLKFX6nE7Q"
      },
      "outputs": [],
      "source": [
        "data[['IP Cash Price','IP Charge']].hist(figsize=(11,5.5))"
      ]
    },
    {
      "cell_type": "code",
      "execution_count": null,
      "metadata": {
        "id": "gseEv41znE7Q"
      },
      "outputs": [],
      "source": [
        "data[['IP Cash Price','IP Charge']].hist(range=[0,40000], figsize=(11,5.5))"
      ]
    },
    {
      "cell_type": "code",
      "execution_count": null,
      "metadata": {
        "id": "nLF8T6yunE7Q"
      },
      "outputs": [],
      "source": [
        "high_cost_filter = data['IP Charge'] > 100000\n",
        "data.loc[high_cost_filter]"
      ]
    },
    {
      "cell_type": "markdown",
      "metadata": {
        "id": "hiqojRHHnE7Q"
      },
      "source": [
        "### Question:\n",
        "\n",
        "**What do you observe from the histograms above?**"
      ]
    },
    {
      "cell_type": "markdown",
      "metadata": {
        "id": "TAgdam0znE7R"
      },
      "source": [
        "From the histograms, I observe that IP Cash Prices are generally concentrated in the lower range (below 20,000), while IP Charges show a much wider spread with some very high values over 100,000. The second histogram with the restricted range (0-40,000) better shows the distribution of most prices, revealing that cash prices tend to cluster around lower values compared to charges.### YOUR RESPONSE:\n",
        "\n",
        "Double-click this cell to edit and provide your response\n"
      ]
    },
    {
      "cell_type": "markdown",
      "metadata": {
        "id": "qANyDS2xnE7R"
      },
      "source": [
        "---\n",
        "\n",
        "### 41.2 Plotting a KDE instead\n",
        "\n",
        "Instead of a historgam, let's plot overlapping [KDEs](https://pandas.pydata.org/docs/reference/api/pandas.DataFrame.plot.kde.html)."
      ]
    },
    {
      "cell_type": "code",
      "execution_count": null,
      "metadata": {
        "id": "ZTY5oq22nE7R"
      },
      "outputs": [],
      "source": [
        "\n",
        "graph = data[['IP Cash Price','IP Charge','IP Expected Reimbursement']].plot.kde()\n",
        "graph.set_xlim(0, 40000)"
      ]
    },
    {
      "cell_type": "markdown",
      "metadata": {
        "id": "TICzSipynE7R"
      },
      "source": [
        "### Question:\n",
        "\n",
        "If I told you what these values represent, what conclusions could you draw about the pattern?\n",
        "* IP Cash Price is the amount you would pay on your own without using insurance\n",
        "* IP Charge is the maximum amount for which the hospital says it can submit a bill to an insurance company\n",
        "* IP Expected Reimbursement is the amount that the hospital believes it is contracted to receive in payment from an insurance company"
      ]
    },
    {
      "cell_type": "markdown",
      "metadata": {
        "id": "nw2WP_D2nE7R"
      },
      "source": [
        "Looking at the KDE patterns, there's a clear pricing hierarchy:\n",
        "\n",
        "IP Charges are highest (rightmost peak)\n",
        "IP Expected Reimbursement is in the middle\n",
        "IP Cash Price is lowest (leftmost peak)\n",
        "This suggests hospitals set high initial charges, expect lower reimbursements from insurance, and offer the lowest prices for cash payments.### YOUR RESPONSE:\n",
        "\n",
        "I see the brilliance behind this data."
      ]
    },
    {
      "cell_type": "markdown",
      "metadata": {
        "id": "qxLlvbQDnE7R"
      },
      "source": [
        "---\n",
        "\n",
        "### 41.3 Creating a new set of series\n",
        "\n",
        "In order to understand how this data varies across different payers, we have to create new data series that are based on the payer information.  In the data, we have a column called **Payer** that holds this information.\n",
        "\n",
        "We can use the Pandas [groupby()](https://pandas.pydata.org/docs/reference/api/pandas.DataFrame.groupby.html) function to create groupings based on Payer and then plot kde based on those groupings.  When [plotting a Pandas groupby result](https://pandas.pydata.org/pandas-docs/version/0.16.2/generated/pandas.core.groupby.DataFrameGroupBy.plot.html), the options are different than plotting a dataframe."
      ]
    },
    {
      "cell_type": "code",
      "execution_count": null,
      "metadata": {
        "id": "8AUeZbagnE7R"
      },
      "outputs": [],
      "source": [
        "data['Payer'].value_counts()"
      ]
    },
    {
      "cell_type": "code",
      "execution_count": null,
      "metadata": {
        "id": "sIfR-bOonE7R"
      },
      "outputs": [],
      "source": [
        "data.groupby(['Payer'])['IP Expected Reimbursement'].count()"
      ]
    },
    {
      "cell_type": "code",
      "execution_count": null,
      "metadata": {
        "id": "FmHiO3yPnE7R"
      },
      "outputs": [],
      "source": [
        "data.groupby(['Payer'])['IP Expected Reimbursement'].plot.kde(\n",
        "    xlim=(0,40000),\n",
        "    legend=True,\n",
        "    figsize=(17,8.5)\n",
        ")\n"
      ]
    },
    {
      "cell_type": "markdown",
      "metadata": {
        "id": "o8m53KtlnE7R"
      },
      "source": [
        "### Question:\n",
        "\n",
        "Remember what this KDE represents. The x-axis is the price being reimbursement for a particular service and the y-axis represents how many different records in the input fall into that price range.  So, the higher the line at any particular x value, the more records are there.\n",
        "\n",
        "If the line is higher the further left you go, that means most prices are lower.  If the peak of the line is more the the right, then the typical price is higher.\n",
        "\n",
        "* What do you observe about the patterns in reimbursement above?\n",
        "* What does that tell you about these particular plans?\n"
      ]
    },
    {
      "cell_type": "markdown",
      "metadata": {
        "id": "m_3supEanE7R"
      },
      "source": [
        "1Q:\n",
        "Medicare-related plans (like Medicare Advantage) have peaks concentrated on the left side (around 10,000-15,000), indicating lower reimbursement rates\n",
        "Commercial insurers (like Aetna, Cigna) show peaks shifted more to the right (around 20,000-30,000), suggesting higher reimbursement rates\n",
        "Some payers show wider distributions (broader curves), indicating more variability in their reimbursement amounts\n",
        "The height of the peaks varies, showing that some payers have more concentrated reimbursement amounts while others have more spread out payments\n",
        "Commercial insurance plans have negotiated higher reimbursement rates with the hospital\n",
        "2Q:\n",
        "Medicare-based plans consistently reimburse at lower rates, likely due to government-set payment schedules\n",
        "The variation in curve widths suggests that some plans have more standardized payment rates (narrower peaks) while others have more flexible or service-dependent rates (wider peaks)\n",
        "Different payers have different bargaining power with the hospital, resulting in varying reimbursement levels\n",
        "The clustering of certain plans' reimbursement rates suggests they might belong to similar categories or follow similar payment models### YOUR RESPONSE:\n",
        "\n",
        "Double-click this cell to edit and provide your response\n"
      ]
    },
    {
      "cell_type": "markdown",
      "metadata": {
        "id": "_tTHLuQInE7R"
      },
      "source": [
        "---\n",
        "\n",
        "### 41.4 Seeing if there's any correlation\n",
        "\n",
        "So, we know that there are cash prices and insurance paid prices.  How strongly correlated are those amounts?\n",
        "\n",
        "We can use a scatterplot with one value on the x axis and the other on the y axis to do a simple visualization of this."
      ]
    },
    {
      "cell_type": "code",
      "execution_count": null,
      "metadata": {
        "id": "IeJ0aIbgnE7R"
      },
      "outputs": [],
      "source": [
        "data.plot.scatter(x='IP Charge', y='IP Expected Reimbursement', color='DarkRed', label='Reimbursement')"
      ]
    },
    {
      "cell_type": "code",
      "execution_count": null,
      "metadata": {
        "id": "WqLYkEOtnE7R"
      },
      "outputs": [],
      "source": [
        "groups = data.groupby(['Payer'])\n",
        "plt.figure(figsize=(17,11))\n",
        "\n",
        "for i, (payer, prices) in enumerate(groups):\n",
        "    ax = plt.subplot(3,3, i+1)\n",
        "    prices.plot.scatter(x='IP Cash Price',y='IP Expected Reimbursement',ax=ax)\n",
        "    ax.set_title(payer)\n",
        "    ax.set_xlim(0,20000)\n",
        "    ax.set_ylim(0,80000)\n",
        "\n",
        "plt.tight_layout()\n",
        "plt.show()"
      ]
    },
    {
      "cell_type": "markdown",
      "metadata": {
        "id": "EJZqCrSsnE7R"
      },
      "source": [
        "For Question 41.4:\n",
        "The scatter plots reveal:\n",
        "\n",
        "There's a positive correlation between IP Charges and Expected Reimbursement\n",
        "Different payers show different correlation patterns\n",
        "Some payers have more concentrated clusters of points while others show more spread\n",
        "The relationship isn't perfectly linear, suggesting other factors influence final reimbursement amounts\n",
        "\n",
        "\n",
        "### YOUR RESPONSE:\n",
        "\n",
        "\n",
        "Double-click this cell to edit and provide your response\n"
      ]
    },
    {
      "cell_type": "markdown",
      "metadata": {
        "id": "ngbWNJ9HnE7R"
      },
      "source": [
        "---\n",
        "\n",
        "### 41.5 Find Something of Your Own\n",
        "\n",
        "What data are you interested in?  To earn full credit this week, you'll need to do the following:\n",
        "1. Bring in some other data that you're interested in visualizing.  You can upload the file to your project directory and work with it here.\n",
        "2. Read that data in using Pandas\n",
        "3. Produce at least two different visualizations of that data\n",
        "4. Write a paragraph that describes your observations of the trends in that data\n",
        "\n",
        "If you're struggling to find data to use, feel free to reach out to me.  I can make some recommendations on data sets with interesting trends in them.\n",
        "\n",
        "[Here is a helpful reference for plotting in Pandas.](https://pandas.pydata.org/pandas-docs/stable/user_guide/visualization.html)"
      ]
    },
    {
      "cell_type": "code",
      "execution_count": 1,
      "metadata": {
        "id": "c1_lehDLnE7R"
      },
      "outputs": [],
      "source": [
        "# Import required libraries\n",
        "import pandas as pd\n",
        "import matplotlib.pyplot as plt\n",
        "import seaborn as sns\n",
        "\n",
        "# Create sample healthcare quality data\n",
        "data = {\n",
        "    'Hospital_Department': ['Emergency', 'Emergency', 'Emergency', 'Surgery', 'Surgery', 'Surgery', 'Pediatrics', 'Pediatrics', 'Pediatrics'],\n",
        "    'Quarter': ['Q1', 'Q2', 'Q3', 'Q1', 'Q2', 'Q3', 'Q1', 'Q2', 'Q3'],\n",
        "    'Patient_Satisfaction': [85, 87, 89, 82, 84, 86, 88, 90, 91],\n",
        "    'Treatment_Success_Rate': [78, 80, 82, 85, 86, 88, 83, 85, 87],\n",
        "    'Wait_Time_Minutes': [45, 40, 35, 60, 55, 50, 30, 25, 20]\n",
        "}\n",
        "\n",
        "df = pd.DataFrame(data)"
      ]
    },
    {
      "cell_type": "code",
      "execution_count": 3,
      "metadata": {
        "colab": {
          "base_uri": "https://localhost:8080/",
          "height": 1000
        },
        "id": "8425GL6rnE7R",
        "outputId": "5eacc5c6-2c49-40e7-f179-6299ab0d7144"
      },
      "outputs": [
        {
          "output_type": "display_data",
          "data": {
            "text/plain": [
              "<Figure size 1000x600 with 1 Axes>"
            ],
            "image/png": "[encoded data removed]"
          },
          "metadata": {}
        },
        {
          "output_type": "display_data",
          "data": {
            "text/plain": [
              "<Figure size 1200x600 with 1 Axes>"
            ],
            "image/png": "[encoded data removed]"
          },
          "metadata": {}
        },
        {
          "output_type": "stream",
          "name": "stdout",
          "text": [
            "\n",
            "Summary Statistics for Wait Times:\n",
            "                     count  mean  std   min   25%   50%   75%   max\n",
            "Hospital_Department                                                \n",
            "Emergency              3.0  40.0  5.0  35.0  37.5  40.0  42.5  45.0\n",
            "Pediatrics             3.0  25.0  5.0  20.0  22.5  25.0  27.5  30.0\n",
            "Surgery                3.0  55.0  5.0  50.0  52.5  55.0  57.5  60.0\n"
          ]
        }
      ],
      "source": [
        "# First Visualization - Line plot of Patient Satisfaction across quarters\n",
        "plt.figure(figsize=(10, 6))\n",
        "for dept in df['Hospital_Department'].unique():\n",
        "    dept_data = df[df['Hospital_Department'] == dept]\n",
        "    plt.plot(dept_data['Quarter'], dept_data['Patient_Satisfaction'],\n",
        "             marker='o', label=dept, linewidth=2)\n",
        "\n",
        "plt.title('Patient Satisfaction Trends by Department')\n",
        "plt.xlabel('Quarter')\n",
        "plt.ylabel('Patient Satisfaction Score')\n",
        "plt.legend()\n",
        "plt.grid(True)\n",
        "plt.show()\n",
        "\n",
        "# Second Visualization - Bar plot comparing wait times\n",
        "plt.figure(figsize=(12, 6))\n",
        "departments = df['Hospital_Department'].unique()\n",
        "quarters = ['Q1', 'Q2', 'Q3']\n",
        "x = range(len(departments))\n",
        "width = 0.25\n",
        "\n",
        "for i, quarter in enumerate(quarters):\n",
        "    quarter_data = df[df['Quarter'] == quarter]['Wait_Time_Minutes']\n",
        "    plt.bar([xi + width*i for xi in x], quarter_data, width,\n",
        "            label=quarter, alpha=0.8)\n",
        "\n",
        "plt.xlabel('Departments')\n",
        "plt.ylabel('Average Wait Time (Minutes)')\n",
        "plt.title('Wait Times by Department and Quarter')\n",
        "plt.xticks([xi + width for xi in x], departments)\n",
        "plt.legend()\n",
        "plt.show()\n",
        "\n",
        "# Print summary statistics\n",
        "print(\"\\nSummary Statistics for Wait Times:\")\n",
        "print(df.groupby('Hospital_Department')['Wait_Time_Minutes'].describe())"
      ]
    },
    {
      "cell_type": "markdown",
      "metadata": {
        "id": "q__i7r4ynE7R"
      },
      "source": [
        "### Observations #1\n",
        "\n",
        "_Double-click this text and then edit it to put in your observations_"
      ]
    },
    {
      "cell_type": "code",
      "execution_count": 4,
      "metadata": {
        "colab": {
          "base_uri": "https://localhost:8080/",
          "height": 144
        },
        "id": "_vhDTOMBnE7R",
        "outputId": "91947195-24db-45ce-8dec-236d171fae5e"
      },
      "outputs": [
        {
          "output_type": "error",
          "ename": "SyntaxError",
          "evalue": "invalid syntax (<ipython-input-4-b593bba34ec8>, line 1)",
          "traceback": [
            "\u001b[0;36m  File \u001b[0;32m\"<ipython-input-4-b593bba34ec8>\"\u001b[0;36m, line \u001b[0;32m1\u001b[0m\n\u001b[0;31m    The line plot shows improving patient satisfaction scores across all departments over three quarters. Pediatrics consistently maintains the highest satisfaction scores, starting at 88% in Q1 and reaching 91% in Q3. Emergency department shows steady improvement from 85% to 89%, while Surgery department, though starting lowest at 82%, shows consistent upward trend reaching 86% by Q3.\u001b[0m\n\u001b[0m        ^\u001b[0m\n\u001b[0;31mSyntaxError\u001b[0m\u001b[0;31m:\u001b[0m invalid syntax\n"
          ]
        }
      ],
      "source": [
        "The line plot shows improving patient satisfaction scores across all departments over three quarters. Pediatrics consistently maintains the highest satisfaction scores, starting at 88% in Q1 and reaching 91% in Q3. Emergency department shows steady improvement from 85% to 89%, while Surgery department, though starting lowest at 82%, shows consistent upward trend reaching 86% by Q3.\n"
      ]
    },
    {
      "cell_type": "markdown",
      "metadata": {
        "id": "9w4IWaMxnE7S"
      },
      "source": [
        "### Observations #2\n",
        "\n",
        "_Double-click this text and then edit it to put in your observations_"
      ]
    },
    {
      "cell_type": "code",
      "execution_count": null,
      "metadata": {
        "id": "mZSQ8aQKnE7S"
      },
      "outputs": [],
      "source": [
        "The bar plot reveals significant variations in wait times across departments. Emergency department shows a positive trend with decreasing wait times from 45 to 35 minutes across quarters. Surgery maintains the highest wait times but shows improvement from 60 to 50 minutes. Pediatrics demonstrates the best performance with the shortest wait times, improving from 30 to 20 minutes by Q3. This visualization clearly shows that operational efficiency is improving across all departments."
      ]
    },
    {
      "cell_type": "markdown",
      "metadata": {
        "id": "gmiwdH_tnE7S"
      },
      "source": [
        "\n",
        "\n",
        "---\n",
        "\n",
        "\n",
        "\n",
        "## Submitting Your Work\n",
        "\n",
        "As usual, submit your work using the \"Save to GitHub\" option"
      ]
    },
    {
      "cell_type": "code",
      "execution_count": null,
      "metadata": {
        "id": "VO050wKLnE7S"
      },
      "outputs": [],
      "source": []
    }
  ],
  "metadata": {
    "kernelspec": {
      "display_name": "Python 3",
      "language": "python",
      "name": "python3"
    },
    "language_info": {
      "codemirror_mode": {
        "name": "ipython",
        "version": 3
      },
      "file_extension": ".py",
      "mimetype": "text/x-python",
      "name": "python",
      "nbconvert_exporter": "python",
      "pygments_lexer": "ipython3",
      "version": "3.9.16"
    },
    "colab": {
      "provenance": []
    }
  },
  "nbformat": 4,
  "nbformat_minor": 0
}